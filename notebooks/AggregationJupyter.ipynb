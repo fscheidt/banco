{
  "cells": [
    {
      "cell_type": "markdown",
      "metadata": {
        "colab": {
          "base_uri": "https://localhost:8080/"
        },
        "id": "9OEsFBGhy7Su",
        "outputId": "f1c39483-198c-47f4-b932-e517fdada2e5"
      },
      "source": [
        "# Versão Local\n",
        "Executa o notebook no ambiente local, através do VSCode ou Jupyter. Nesse caso podemos importar o script database.py que importa as configurações do arquivo .env e cria a conexão com o banco de dados.\n",
        "\n",
        "- [Dashboard mongo atlas](https://cloud.mongodb.com/v2/)\n",
        "- https://github.com/fscheidt/iotdb-23\n",
        "- https://github.com/fscheidt/banco"
      ]
    },
    {
      "cell_type": "code",
      "execution_count": 5,
      "metadata": {},
      "outputs": [],
      "source": [
        "import sys\n",
        "import os\n",
        "from pprint import pprint\n",
        "from pathlib import Path\n",
        "sys.path.append(str(Path(os.path.abspath('')).parent))\n",
        "import database"
      ]
    },
    {
      "cell_type": "code",
      "execution_count": 10,
      "metadata": {
        "id": "uvyaerXb77bK"
      },
      "outputs": [],
      "source": [
        "# Banco de dados:\n",
        "DB_NAME = \"paisesdb\"\n",
        "\n",
        "db = database.get_connection(db_name=DB_NAME)"
      ]
    },
    {
      "cell_type": "code",
      "execution_count": 11,
      "metadata": {},
      "outputs": [],
      "source": [
        "def consulta_codigo_area(cod):\n",
        "    \"\"\" Qual o pais com codigo de chamada \"cod\" ? \"\"\"\n",
        "    doc = db.paises.find_one(\n",
        "        {\"callingCode\": cod}, \n",
        "        {\"name.common\": 1, \"_id\": 0}\n",
        "    )\n",
        "    return doc"
      ]
    },
    {
      "cell_type": "code",
      "execution_count": 12,
      "metadata": {},
      "outputs": [
        {
          "name": "stdout",
          "output_type": "stream",
          "text": [
            "{'name': {'common': 'Brazil'}}\n"
          ]
        }
      ],
      "source": [
        "doc = consulta_codigo_area(\"55\") # => Brazil\n",
        "pprint(doc)"
      ]
    }
  ],
  "metadata": {
    "colab": {
      "provenance": []
    },
    "kernelspec": {
      "display_name": "Python 3",
      "name": "python3"
    },
    "language_info": {
      "codemirror_mode": {
        "name": "ipython",
        "version": 3
      },
      "file_extension": ".py",
      "mimetype": "text/x-python",
      "name": "python",
      "nbconvert_exporter": "python",
      "pygments_lexer": "ipython3",
      "version": "3.12.0"
    }
  },
  "nbformat": 4,
  "nbformat_minor": 0
}
